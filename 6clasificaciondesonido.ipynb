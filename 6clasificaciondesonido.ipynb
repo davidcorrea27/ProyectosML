{
 "cells": [
  {
   "cell_type": "code",
   "execution_count": 15,
   "id": "650b38a0-9939-490d-9622-ab6e5b9a0e37",
   "metadata": {},
   "outputs": [],
   "source": [
    "import keras_tuner as kt\n",
    "import numpy as np\n",
    "import librosa\n",
    "import librosa.util\n",
    "from sklearn.model_selection import train_test_split\n",
    "from sklearn.preprocessing import StandardScaler\n",
    "from tensorflow import keras\n",
    "from tensorflow.keras.utils import to_categorical"
   ]
  },
  {
   "cell_type": "code",
   "execution_count": 22,
   "id": "01c79483-1e64-494a-a179-262c176b1f6c",
   "metadata": {},
   "outputs": [],
   "source": [
    "\n",
    "DATASET_ROOT = r\"C:/Users/david/Downloads/16000_pcm_speeches\"\n",
    "SPEAKERS = [\n",
    "    \"Benjamin_Netanyau\",\n",
    "    \"Jens_Stoltenberg\",\n",
    "    \"Julia_Gillard\",\n",
    "    \"Magaret_Tarcher\",\n",
    "    \"Nelson_Mandela\",\n",
    "]\n",
    "CLASS_PATHS = [os.path.join(DATASET_ROOT, s) for s in SPEAKERS]\n",
    "\n",
    "# Log-Mel parámetros (fijos para dar tamaño constante)\n",
    "TARGET_SR   = 16000     # resample a 16 kHz\n",
    "N_FFT       = 1024\n",
    "HOP_LENGTH  = 256\n",
    "N_MELS      = 64        # filas\n",
    "N_FRAMES    = 64        # columnas (lo fijamos)\n",
    "EPS         = 1e-10     # para evitar log(0)\n",
    "\n",
    "\n",
    "\n",
    "\n"
   ]
  },
  {
   "cell_type": "code",
   "execution_count": 24,
   "id": "f0059397-26cb-44a6-aee5-b9417403f3d0",
   "metadata": {},
   "outputs": [],
   "source": [
    "\n",
    "def parse_dataset_mel(paths):\n",
    "    X, y = [], []\n",
    "    for label_idx, folder in enumerate(paths):\n",
    "        print(f\"[+] Parsing {folder} ...\")\n",
    "        for fname in os.listdir(folder):\n",
    "            if not fname.lower().endswith(\".wav\"):\n",
    "                continue\n",
    "            fpath = os.path.join(folder, fname)\n",
    "\n",
    "            wav, sr = librosa.load(fpath, sr=TARGET_SR, mono=True)\n",
    "\n",
    "            mel = librosa.feature.melspectrogram(\n",
    "                y=wav, sr=sr, n_fft=N_FFT, hop_length=HOP_LENGTH, n_mels=N_MELS\n",
    "            )\n",
    "            logmel = librosa.power_to_db(mel + EPS, ref=np.max)\n",
    "\n",
    "           \n",
    "            logmel_fixed = librosa.util.fix_length(logmel, size=N_FRAMES, axis=1)\n",
    "\n",
    "            X.append(logmel_fixed.astype(np.float32))\n",
    "            y.append(label_idx)\n",
    "    return np.array(X), np.array(y)\n",
    "\n"
   ]
  },
  {
   "cell_type": "code",
   "execution_count": 25,
   "id": "9104df04-cd68-4624-8595-4cd8fe34408a",
   "metadata": {},
   "outputs": [
    {
     "name": "stdout",
     "output_type": "stream",
     "text": [
      "[+] Parsing C:/Users/david/Downloads/16000_pcm_speeches\\Benjamin_Netanyau ...\n",
      "[+] Parsing C:/Users/david/Downloads/16000_pcm_speeches\\Jens_Stoltenberg ...\n",
      "[+] Parsing C:/Users/david/Downloads/16000_pcm_speeches\\Julia_Gillard ...\n",
      "[+] Parsing C:/Users/david/Downloads/16000_pcm_speeches\\Magaret_Tarcher ...\n",
      "[+] Parsing C:/Users/david/Downloads/16000_pcm_speeches\\Nelson_Mandela ...\n",
      "X shape (n, mels, frames): (7501, 64, 64)\n",
      "y shape: (7501,)\n"
     ]
    }
   ],
   "source": [
    "X, y = parse_dataset_mel(CLASS_PATHS)\n",
    "num_classes = len(SPEAKERS)\n",
    "\n",
    "print(\"X shape (n, mels, frames):\", X.shape)   # (N, 64, 64)\n",
    "print(\"y shape:\", y.shape)\n",
    "\n"
   ]
  },
  {
   "cell_type": "code",
   "execution_count": 26,
   "id": "2cba8d0b-30e8-4eae-b2d2-ea3480a3e11d",
   "metadata": {},
   "outputs": [
    {
     "name": "stdout",
     "output_type": "stream",
     "text": [
      "input_dim: 4096\n"
     ]
    }
   ],
   "source": [
    "\n",
    "X_train, X_tmp, y_train, y_tmp = train_test_split(\n",
    "    X, y, test_size=0.30, random_state=27, stratify=y\n",
    ")\n",
    "X_val, X_test, y_val, y_test = train_test_split(\n",
    "    X_tmp, y_tmp, test_size=0.50, random_state=42, stratify=y_tmp\n",
    ")\n",
    "# Proporciones: 70% train, 15% val, 15% test\n",
    "\n",
    "X_train_flat = X_train.reshape(len(X_train), -1)\n",
    "X_val_flat   = X_val.reshape(len(X_val), -1)\n",
    "X_test_flat  = X_test.reshape(len(X_test), -1)\n",
    "\n",
    "scaler = StandardScaler()\n",
    "X_train_sc = scaler.fit_transform(X_train_flat)\n",
    "X_val_sc   = scaler.transform(X_val_flat)\n",
    "X_test_sc  = scaler.transform(X_test_flat)\n",
    "\n",
    "y_train_cat = to_categorical(y_train, num_classes)\n",
    "y_val_cat   = to_categorical(y_val, num_classes)\n",
    "y_test_cat  = to_categorical(y_test, num_classes)\n",
    "\n",
    "input_dim = X_train_sc.shape[1]  # 4096\n",
    "print(\"input_dim:\", input_dim)\n",
    "\n"
   ]
  },
  {
   "cell_type": "code",
   "execution_count": 27,
   "id": "422ae125-8e59-4983-8eac-0254108625df",
   "metadata": {},
   "outputs": [],
   "source": [
    "\n",
    "def build_mlp(hp):\n",
    "    model = keras.Sequential()\n",
    "    model.add(keras.layers.Input(shape=(input_dim,)))\n",
    "\n",
    "    # Capa oculta 1\n",
    "    units1 = hp.Int(\"units1\", min_value=64, max_value=512, step=64)\n",
    "    model.add(keras.layers.Dense(units1, activation=\"relu\"))\n",
    "    drop1 = hp.Float(\"dropout1\", min_value=0.0, max_value=0.6, step=0.1)\n",
    "    model.add(keras.layers.Dropout(drop1))\n",
    "\n",
    "    #  segunda capa\n",
    "    if hp.Boolean(\"add_layer2\"):\n",
    "        units2 = hp.Int(\"units2\", min_value=64, max_value=512, step=64)\n",
    "        model.add(keras.layers.Dense(units2, activation=\"relu\"))\n",
    "        drop2 = hp.Float(\"dropout2\", min_value=0.0, max_value=0.6, step=0.1)\n",
    "        model.add(keras.layers.Dropout(drop2))\n",
    "\n",
    "    # Capa de salida\n",
    "    model.add(keras.layers.Dense(num_classes, activation=\"softmax\"))\n",
    "\n",
    "    # LR a tunear\n",
    "    lr = hp.Choice(\"lr\", values=[1e-2, 5e-3, 1e-3, 5e-4, 1e-4])\n",
    "    model.compile(\n",
    "        optimizer=keras.optimizers.Adam(learning_rate=lr),\n",
    "        loss=\"categorical_crossentropy\",\n",
    "        metrics=[\"accuracy\"],\n",
    "    )\n",
    "    return model\n",
    "\n"
   ]
  },
  {
   "cell_type": "code",
   "execution_count": 31,
   "id": "67e9afa4-549c-42cb-916a-9bbf8b7942f6",
   "metadata": {},
   "outputs": [
    {
     "name": "stdout",
     "output_type": "stream",
     "text": [
      "Trial 30 Complete [00h 00m 37s]\n",
      "val_accuracy: 0.9902222156524658\n",
      "\n",
      "Best val_accuracy So Far: 0.9919999837875366\n",
      "Total elapsed time: 00h 11m 53s\n"
     ]
    }
   ],
   "source": [
    "\n",
    "tuner = kt.Hyperband(\n",
    "    build_mlp,\n",
    "    objective=\"val_accuracy\",\n",
    "    max_epochs=10,     \n",
    "    factor=3,\n",
    "    directory=\"nada\",\n",
    "    project_name=\"clasificaciondesonid0\"\n",
    ")\n",
    "\n",
    "early_stop = keras.callbacks.EarlyStopping(\n",
    "    monitor=\"val_loss\", patience=3, restore_best_weights=True\n",
    ")\n",
    "\n",
    "tuner.search(\n",
    "    X_train_sc, y_train_cat,\n",
    "    validation_data=(X_val_sc, y_val_cat),\n",
    "    epochs=10,\n",
    "    callbacks=[early_stop],\n",
    "    verbose=1\n",
    ")\n"
   ]
  },
  {
   "cell_type": "code",
   "execution_count": 32,
   "id": "a935a888-d3c2-4284-8871-f1cd23872697",
   "metadata": {},
   "outputs": [
    {
     "name": "stdout",
     "output_type": "stream",
     "text": [
      "Mejores HPs: {'units1': 64, 'dropout1': 0.2, 'add_layer2': False, 'lr': 0.0001, 'units2': 512, 'dropout2': 0.2, 'tuner/epochs': 10, 'tuner/initial_epoch': 4, 'tuner/bracket': 2, 'tuner/round': 2, 'tuner/trial_id': '0013'}\n"
     ]
    }
   ],
   "source": [
    "\n",
    "best_hps = tuner.get_best_hyperparameters(1)[0]\n",
    "print(\"Mejores HPs:\", best_hps.values)\n"
   ]
  },
  {
   "cell_type": "code",
   "execution_count": 33,
   "id": "70e3b697-fc6c-46b7-b642-216ebf5810c1",
   "metadata": {},
   "outputs": [
    {
     "name": "stdout",
     "output_type": "stream",
     "text": [
      "Epoch 1/20\n",
      "\u001b[1m165/165\u001b[0m \u001b[32m━━━━━━━━━━━━━━━━━━━━\u001b[0m\u001b[37m\u001b[0m \u001b[1m5s\u001b[0m 19ms/step - accuracy: 0.7503 - loss: 0.6759 - val_accuracy: 0.8898 - val_loss: 0.3176\n",
      "Epoch 2/20\n",
      "\u001b[1m165/165\u001b[0m \u001b[32m━━━━━━━━━━━━━━━━━━━━\u001b[0m\u001b[37m\u001b[0m \u001b[1m3s\u001b[0m 16ms/step - accuracy: 0.9137 - loss: 0.2699 - val_accuracy: 0.9511 - val_loss: 0.1804\n",
      "Epoch 3/20\n",
      "\u001b[1m165/165\u001b[0m \u001b[32m━━━━━━━━━━━━━━━━━━━━\u001b[0m\u001b[37m\u001b[0m \u001b[1m3s\u001b[0m 16ms/step - accuracy: 0.9505 - loss: 0.1686 - val_accuracy: 0.9769 - val_loss: 0.1200\n",
      "Epoch 4/20\n",
      "\u001b[1m165/165\u001b[0m \u001b[32m━━━━━━━━━━━━━━━━━━━━\u001b[0m\u001b[37m\u001b[0m \u001b[1m3s\u001b[0m 16ms/step - accuracy: 0.9699 - loss: 0.1215 - val_accuracy: 0.9804 - val_loss: 0.0963\n",
      "Epoch 5/20\n",
      "\u001b[1m165/165\u001b[0m \u001b[32m━━━━━━━━━━━━━━━━━━━━\u001b[0m\u001b[37m\u001b[0m \u001b[1m2s\u001b[0m 14ms/step - accuracy: 0.9752 - loss: 0.0985 - val_accuracy: 0.9742 - val_loss: 0.1074\n",
      "Epoch 6/20\n",
      "\u001b[1m165/165\u001b[0m \u001b[32m━━━━━━━━━━━━━━━━━━━━\u001b[0m\u001b[37m\u001b[0m \u001b[1m2s\u001b[0m 12ms/step - accuracy: 0.9823 - loss: 0.0777 - val_accuracy: 0.9884 - val_loss: 0.0665\n",
      "Epoch 7/20\n",
      "\u001b[1m165/165\u001b[0m \u001b[32m━━━━━━━━━━━━━━━━━━━━\u001b[0m\u001b[37m\u001b[0m \u001b[1m2s\u001b[0m 14ms/step - accuracy: 0.9790 - loss: 0.0805 - val_accuracy: 0.9849 - val_loss: 0.0636\n",
      "Epoch 8/20\n",
      "\u001b[1m165/165\u001b[0m \u001b[32m━━━━━━━━━━━━━━━━━━━━\u001b[0m\u001b[37m\u001b[0m \u001b[1m4s\u001b[0m 22ms/step - accuracy: 0.9876 - loss: 0.0574 - val_accuracy: 0.9831 - val_loss: 0.0589\n",
      "Epoch 9/20\n",
      "\u001b[1m165/165\u001b[0m \u001b[32m━━━━━━━━━━━━━━━━━━━━\u001b[0m\u001b[37m\u001b[0m \u001b[1m4s\u001b[0m 22ms/step - accuracy: 0.9882 - loss: 0.0529 - val_accuracy: 0.9876 - val_loss: 0.0581\n",
      "Epoch 10/20\n",
      "\u001b[1m165/165\u001b[0m \u001b[32m━━━━━━━━━━━━━━━━━━━━\u001b[0m\u001b[37m\u001b[0m \u001b[1m3s\u001b[0m 19ms/step - accuracy: 0.9899 - loss: 0.0426 - val_accuracy: 0.9867 - val_loss: 0.0435\n",
      "Epoch 11/20\n",
      "\u001b[1m165/165\u001b[0m \u001b[32m━━━━━━━━━━━━━━━━━━━━\u001b[0m\u001b[37m\u001b[0m \u001b[1m2s\u001b[0m 14ms/step - accuracy: 0.9918 - loss: 0.0378 - val_accuracy: 0.9876 - val_loss: 0.0448\n",
      "Epoch 12/20\n",
      "\u001b[1m165/165\u001b[0m \u001b[32m━━━━━━━━━━━━━━━━━━━━\u001b[0m\u001b[37m\u001b[0m \u001b[1m3s\u001b[0m 20ms/step - accuracy: 0.9928 - loss: 0.0345 - val_accuracy: 0.9902 - val_loss: 0.0399\n",
      "Epoch 13/20\n",
      "\u001b[1m165/165\u001b[0m \u001b[32m━━━━━━━━━━━━━━━━━━━━\u001b[0m\u001b[37m\u001b[0m \u001b[1m4s\u001b[0m 22ms/step - accuracy: 0.9930 - loss: 0.0333 - val_accuracy: 0.9884 - val_loss: 0.0456\n",
      "Epoch 14/20\n",
      "\u001b[1m165/165\u001b[0m \u001b[32m━━━━━━━━━━━━━━━━━━━━\u001b[0m\u001b[37m\u001b[0m \u001b[1m4s\u001b[0m 22ms/step - accuracy: 0.9930 - loss: 0.0311 - val_accuracy: 0.9911 - val_loss: 0.0368\n",
      "Epoch 15/20\n",
      "\u001b[1m165/165\u001b[0m \u001b[32m━━━━━━━━━━━━━━━━━━━━\u001b[0m\u001b[37m\u001b[0m \u001b[1m3s\u001b[0m 18ms/step - accuracy: 0.9939 - loss: 0.0306 - val_accuracy: 0.9893 - val_loss: 0.0335\n",
      "Epoch 16/20\n",
      "\u001b[1m165/165\u001b[0m \u001b[32m━━━━━━━━━━━━━━━━━━━━\u001b[0m\u001b[37m\u001b[0m \u001b[1m4s\u001b[0m 22ms/step - accuracy: 0.9949 - loss: 0.0252 - val_accuracy: 0.9876 - val_loss: 0.0409\n",
      "Epoch 17/20\n",
      "\u001b[1m165/165\u001b[0m \u001b[32m━━━━━━━━━━━━━━━━━━━━\u001b[0m\u001b[37m\u001b[0m \u001b[1m4s\u001b[0m 13ms/step - accuracy: 0.9949 - loss: 0.0246 - val_accuracy: 0.9893 - val_loss: 0.0339\n",
      "Epoch 18/20\n",
      "\u001b[1m165/165\u001b[0m \u001b[32m━━━━━━━━━━━━━━━━━━━━\u001b[0m\u001b[37m\u001b[0m \u001b[1m2s\u001b[0m 12ms/step - accuracy: 0.9962 - loss: 0.0191 - val_accuracy: 0.9876 - val_loss: 0.0368\n"
     ]
    }
   ],
   "source": [
    "best_model = tuner.hypermodel.build(best_hps)\n",
    "history = best_model.fit(\n",
    "    X_train_sc, y_train_cat,\n",
    "    validation_data=(X_val_sc, y_val_cat),\n",
    "    epochs=20,\n",
    "    callbacks=[early_stop],\n",
    "    verbose=1\n",
    ")\n",
    "\n"
   ]
  },
  {
   "cell_type": "code",
   "execution_count": 34,
   "id": "edb01426-527b-49f3-9711-4356b9fa0904",
   "metadata": {},
   "outputs": [
    {
     "name": "stdout",
     "output_type": "stream",
     "text": [
      "Test accuracy: 0.9893\n",
      "\u001b[1m36/36\u001b[0m \u001b[32m━━━━━━━━━━━━━━━━━━━━\u001b[0m\u001b[37m\u001b[0m \u001b[1m0s\u001b[0m 5ms/step\n"
     ]
    }
   ],
   "source": [
    "\n",
    "test_loss, test_acc = best_model.evaluate(X_test_sc, y_test_cat, verbose=0)\n",
    "print(f\"Test accuracy: {test_acc:.4f}\")\n",
    "\n",
    "y_pred = best_model.predict(X_test_sc).argmax(axis=1)\n",
    "\n"
   ]
  },
  {
   "cell_type": "code",
   "execution_count": 42,
   "id": "0886d36a-86d3-4eb9-bcac-da555c5faea9",
   "metadata": {},
   "outputs": [
    {
     "name": "stdout",
     "output_type": "stream",
     "text": [
      "                   precision    recall  f1-score   support\n",
      "\n",
      "Benjamin_Netanyau       0.97      1.00      0.99       225\n",
      " Jens_Stoltenberg       0.99      0.99      0.99       225\n",
      "    Julia_Gillard       1.00      0.96      0.98       226\n",
      "  Magaret_Tarcher       1.00      1.00      1.00       225\n",
      "   Nelson_Mandela       0.99      1.00      1.00       225\n",
      "\n",
      "         accuracy                           0.99      1126\n",
      "        macro avg       0.99      0.99      0.99      1126\n",
      "     weighted avg       0.99      0.99      0.99      1126\n",
      "\n"
     ]
    }
   ],
   "source": [
    "from sklearn.metrics import classification_report, confusion_matrix\n",
    "print(classification_report(y_test, y_pred, target_names=SPEAKERS))"
   ]
  },
  {
   "cell_type": "code",
   "execution_count": 43,
   "id": "fa44038d-d95e-4fe6-ad58-df07eb252e2d",
   "metadata": {},
   "outputs": [
    {
     "name": "stdout",
     "output_type": "stream",
     "text": [
      "[[225   0   0   0   0]\n",
      " [  1 223   0   1   0]\n",
      " [  5   3 216   0   2]\n",
      " [  0   0   0 225   0]\n",
      " [  0   0   0   0 225]]\n"
     ]
    }
   ],
   "source": [
    "print(confusion_matrix(y_test, y_pred))\n"
   ]
  },
  {
   "cell_type": "code",
   "execution_count": null,
   "id": "386bcdee-3f57-4eb0-94dd-ed4a625c1fb7",
   "metadata": {},
   "outputs": [],
   "source": []
  }
 ],
 "metadata": {
  "kernelspec": {
   "display_name": "Python 3 (ipykernel)",
   "language": "python",
   "name": "python3"
  },
  "language_info": {
   "codemirror_mode": {
    "name": "ipython",
    "version": 3
   },
   "file_extension": ".py",
   "mimetype": "text/x-python",
   "name": "python",
   "nbconvert_exporter": "python",
   "pygments_lexer": "ipython3",
   "version": "3.12.6"
  }
 },
 "nbformat": 4,
 "nbformat_minor": 5
}
